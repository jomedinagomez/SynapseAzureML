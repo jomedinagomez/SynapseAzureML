{
  "cells": [
    {
      "cell_type": "code",
      "source": [
        "# Importing pyspark dependencies\r\n",
        "from pyspark.sql.types import IntegerType,BooleanType,DateType,NumericType,TimestampType\r\n",
        "from pyspark.ml.feature import Binarizer, Bucketizer, QuantileDiscretizer\r\n",
        "from pyspark.sql.functions import col\r\n",
        "import pyspark.sql.functions as F\r\n",
        "\r\n",
        "# Add required imports\r\n",
        "import com.microsoft.spark.sqlanalytics\r\n",
        "from com.microsoft.spark.sqlanalytics.Constants import Constants\r\n",
        "\r\n",
        "# Importing mlflow libraries\r\n",
        "from mlflow.models import infer_signature, set_signature\r\n",
        "from mlflow.models.model import get_model_info\r\n",
        "import mlflow\r\n",
        "\r\n",
        "# Importing general libraries\r\n",
        "from sklearn.metrics import accuracy_score, f1_score, precision_score, confusion_matrix, recall_score, roc_auc_score, classification_report\r\n",
        "import pandas as pd"
      ],
      "outputs": [],
      "execution_count": 45,
      "metadata": {
        "jupyter": {
          "source_hidden": false,
          "outputs_hidden": false
        },
        "nteract": {
          "transient": {
            "deleting": false
          }
        }
      }
    },
    {
      "cell_type": "markdown",
      "source": [
        "### 1.1 Read raw data from CSV"
      ],
      "metadata": {
        "nteract": {
          "transient": {
            "deleting": false
          }
        }
      }
    },
    {
      "cell_type": "markdown",
      "source": [
        "#### 1.1.1 Reading green taxi data"
      ],
      "metadata": {
        "nteract": {
          "transient": {
            "deleting": false
          }
        }
      }
    },
    {
      "cell_type": "code",
      "source": [
        "# Read from existing internal table\r\n",
        "green_raw = (spark.read\r\n",
        "                     .synapsesql(\"synapseazuremldedicates.dbo.greenTaxiData\"))\r\n",
        "\r\n",
        "# Show contents of the dataframe\r\n",
        "display(green_raw.head(5))"
      ],
      "outputs": [],
      "execution_count": 46,
      "metadata": {
        "jupyter": {
          "source_hidden": false,
          "outputs_hidden": false
        },
        "nteract": {
          "transient": {
            "deleting": false
          }
        },
        "collapsed": false
      }
    },
    {
      "cell_type": "code",
      "source": [
        "green_columns_remap =    {\r\n",
        "        \"vendorID\": \"vendor\",\r\n",
        "        \"lpepPickupDatetime\": \"pickup_datetime\",\r\n",
        "        \"lpepDropoffDatetime\": \"dropoff_datetime\",\r\n",
        "        \"storeAndFwdFlag\": \"store_forward\",\r\n",
        "        \"pickupLongitude\": \"pickup_longitude\",\r\n",
        "        \"pickupLatitude\": \"pickup_latitude\",\r\n",
        "        \"dropoffLongitude\": \"dropoff_longitude\",\r\n",
        "        \"dropoffLatitude\": \"dropoff_latitude\",\r\n",
        "        \"passengerCount\": \"passengers\",\r\n",
        "        \"fareAmount\": \"cost\",\r\n",
        "        \"tripDistance\": \"distance\",\r\n",
        "    }\r\n",
        "\r\n",
        "select_expr = [f\"{col} as {new_name}\" for col, new_name in green_columns_remap.items()]\r\n",
        "green_remapped = green_raw.selectExpr(*select_expr)\r\n",
        "display(green_remapped.head(5))"
      ],
      "outputs": [],
      "execution_count": 47,
      "metadata": {
        "jupyter": {
          "source_hidden": false,
          "outputs_hidden": false
        },
        "nteract": {
          "transient": {
            "deleting": false
          }
        },
        "collapsed": false
      }
    },
    {
      "cell_type": "markdown",
      "source": [
        "#### 1.1.2 Reading yellow taxi data"
      ],
      "metadata": {
        "nteract": {
          "transient": {
            "deleting": false
          }
        }
      }
    },
    {
      "cell_type": "code",
      "source": [
        "# Read from existing internal table\r\n",
        "yellow_raw  = (spark.read\r\n",
        "                     .synapsesql(\"synapseazuremldedicates.dbo.yellowTaxiData\"))\r\n",
        "\r\n",
        "# Show contents of the dataframe\r\n",
        "display(yellow_raw.head(5))"
      ],
      "outputs": [],
      "execution_count": 48,
      "metadata": {
        "jupyter": {
          "source_hidden": false,
          "outputs_hidden": false
        },
        "nteract": {
          "transient": {
            "deleting": false
          }
        },
        "collapsed": false
      }
    },
    {
      "cell_type": "code",
      "source": [
        "yellow_columns_remap = {\r\n",
        "        \"vendorID\": \"vendor\",\r\n",
        "        \"tpepPickupDateTime\": \"pickup_datetime\",\r\n",
        "        \"tpepDropoffDateTime\": \"dropoff_datetime\",\r\n",
        "        \"storeAndFwdFlag\": \"store_forward\",\r\n",
        "        \"startLon\": \"pickup_longitude\",\r\n",
        "        \"startLat\": \"pickup_latitude\",\r\n",
        "        \"endLon\": \"dropoff_longitude\",\r\n",
        "        \"endLat\": \"dropoff_latitude\",\r\n",
        "        \"passengerCount\": \"passengers\",\r\n",
        "        \"fareAmount\": \"cost\",\r\n",
        "        \"tripDistance\": \"distance\",\r\n",
        "    }\r\n",
        "\r\n",
        "select_expr = [f\"{col} as {new_name}\" for col, new_name in yellow_columns_remap.items()]\r\n",
        "yellow_remapped = yellow_raw.selectExpr(*select_expr)\r\n",
        "display(yellow_remapped.head(5))"
      ],
      "outputs": [],
      "execution_count": 49,
      "metadata": {
        "jupyter": {
          "source_hidden": false,
          "outputs_hidden": false
        },
        "nteract": {
          "transient": {
            "deleting": false
          }
        },
        "collapsed": false
      }
    },
    {
      "cell_type": "markdown",
      "source": [
        "### 1.2 Combining data from raw data sources"
      ],
      "metadata": {
        "nteract": {
          "transient": {
            "deleting": false
          }
        }
      }
    },
    {
      "cell_type": "code",
      "source": [
        "df_combined_taxi = green_remapped.union(yellow_remapped)\r\n",
        "\r\n",
        "print(\"Length of Green DataFrame :\" , green_remapped.count())\r\n",
        "print(\"Length of Yellow DataFrame :\" , yellow_remapped.count())\r\n",
        "print(\"Length of combined dataframes :\" , df_combined_taxi.count())"
      ],
      "outputs": [],
      "execution_count": 50,
      "metadata": {
        "jupyter": {
          "source_hidden": false,
          "outputs_hidden": false
        },
        "nteract": {
          "transient": {
            "deleting": false
          }
        }
      }
    },
    {
      "cell_type": "markdown",
      "source": [
        "### 1.3 Saving merged dataset as table"
      ],
      "metadata": {
        "nteract": {
          "transient": {
            "deleting": false
          }
        }
      }
    },
    {
      "cell_type": "code",
      "source": [
        "#https://learn.microsoft.com/en-us/azure/synapse-analytics/spark/synapse-spark-sql-pool-import-export?tabs=scala%2Cscala1%2Cscala2%2Cscala3%2Cscala4%2Cpython5#write-using-basic-authentication"
      ],
      "outputs": [],
      "execution_count": 51,
      "metadata": {
        "jupyter": {
          "source_hidden": false,
          "outputs_hidden": false
        },
        "nteract": {
          "transient": {
            "deleting": false
          }
        }
      }
    },
    {
      "cell_type": "code",
      "source": [
        "df_combined_taxi.write.mode(\"overwrite\").synapsesql(\"synapseazuremldedicates.dbo.combined_taxi_data\")"
      ],
      "outputs": [],
      "execution_count": 52,
      "metadata": {
        "jupyter": {
          "source_hidden": false,
          "outputs_hidden": false
        },
        "nteract": {
          "transient": {
            "deleting": false
          }
        }
      }
    },
    {
      "cell_type": "markdown",
      "source": [
        "### 1.4 Data Transformation"
      ],
      "metadata": {
        "nteract": {
          "transient": {
            "deleting": false
          }
        }
      }
    },
    {
      "cell_type": "markdown",
      "source": [
        "#### 1.4.1 Transforming float64 fields"
      ],
      "metadata": {
        "nteract": {
          "transient": {
            "deleting": false
          }
        }
      }
    },
    {
      "cell_type": "code",
      "source": [
        "# Convert String to Integer Type\r\n",
        "df_combined_taxi = df_combined_taxi.withColumn(\"pickup_longitude\",df_combined_taxi.pickup_longitude.cast('double')).withColumn(\"pickup_latitude\",df_combined_taxi.pickup_latitude.cast('double')).withColumn(\"dropoff_longitude\",df_combined_taxi.dropoff_longitude.cast('double')).withColumn(\"dropoff_latitude\",df_combined_taxi.dropoff_latitude.cast('double')).withColumn(\"distance\",df_combined_taxi.distance.cast('double')).withColumn(\"cost\",df_combined_taxi.cost.cast('double')).withColumn(\"passengers\",df_combined_taxi.passengers.cast('int'))\r\n",
        "display(df_combined_taxi.head(5))"
      ],
      "outputs": [],
      "execution_count": 53,
      "metadata": {
        "jupyter": {
          "source_hidden": false,
          "outputs_hidden": false
        },
        "nteract": {
          "transient": {
            "deleting": false
          }
        },
        "collapsed": false
      }
    },
    {
      "cell_type": "code",
      "source": [
        "latlong_filtered_df = df_combined_taxi.filter( (df_combined_taxi.pickup_longitude <= -73.72) & \\\r\n",
        "(df_combined_taxi.pickup_longitude >= -74.09) & \\\r\n",
        "(df_combined_taxi.pickup_latitude  <= 40.88) \\\r\n",
        "& (df_combined_taxi.pickup_latitude >= 40.53)\\\r\n",
        "& (df_combined_taxi.dropoff_longitude <= -73.72)\\\r\n",
        "& (df_combined_taxi.dropoff_longitude >= -74.72)\\\r\n",
        "& (df_combined_taxi.dropoff_latitude <= 40.88)\\\r\n",
        "& (df_combined_taxi.dropoff_latitude >= 40.53)\\\r\n",
        ")\r\n",
        "\r\n",
        "latlong_filtered_df.count()"
      ],
      "outputs": [],
      "execution_count": 54,
      "metadata": {
        "jupyter": {
          "source_hidden": false,
          "outputs_hidden": false
        },
        "nteract": {
          "transient": {
            "deleting": false
          }
        }
      }
    },
    {
      "cell_type": "markdown",
      "source": [
        "#### 1.4.2 Transforming pickup_datetime"
      ],
      "metadata": {
        "nteract": {
          "transient": {
            "deleting": false
          }
        }
      }
    },
    {
      "cell_type": "code",
      "source": [
        "latlong_filtered_df = latlong_filtered_df.withColumn(\"pickup_datetime\",F.to_timestamp(col(\"pickup_datetime\"), \"M/d/yyyy H:mm\"))\r\n",
        "display(latlong_filtered_df.head(5))"
      ],
      "outputs": [],
      "execution_count": 55,
      "metadata": {
        "jupyter": {
          "source_hidden": false,
          "outputs_hidden": false
        },
        "nteract": {
          "transient": {
            "deleting": false
          }
        },
        "collapsed": false
      }
    },
    {
      "cell_type": "code",
      "source": [
        "normalized_df = latlong_filtered_df.withColumn('pickup_weekday',(F.dayofweek('pickup_datetime')))\\\r\n",
        "    .withColumn('pickup_month',(F.month('pickup_datetime')))\\\r\n",
        "    .withColumn('pickup_monthday',(F.dayofmonth('pickup_datetime')))\\\r\n",
        "    .withColumn('pickup_hour',(F.hour('pickup_datetime')))\\\r\n",
        "    .withColumn('pickup_minute',(F.minute('pickup_datetime')))\\\r\n",
        "    .withColumn('pickup_second',(F.second('pickup_datetime'))).drop(\"pickup_datetime\")\r\n",
        "\r\n",
        "display(normalized_df.head(5))"
      ],
      "outputs": [],
      "execution_count": 56,
      "metadata": {
        "jupyter": {
          "source_hidden": false,
          "outputs_hidden": false
        },
        "nteract": {
          "transient": {
            "deleting": false
          }
        },
        "collapsed": false
      }
    },
    {
      "cell_type": "markdown",
      "source": [
        "#### 1.4.3 Transforming dropoff_datetime"
      ],
      "metadata": {
        "nteract": {
          "transient": {
            "deleting": false
          }
        }
      }
    },
    {
      "cell_type": "code",
      "source": [
        "normalized_df =  normalized_df.withColumn(\"dropoff_datetime\",F.to_timestamp(col(\"dropoff_datetime\"), \"M/d/yyyy H:mm\"))\r\n",
        "display(normalized_df.head(5))"
      ],
      "outputs": [],
      "execution_count": 57,
      "metadata": {
        "jupyter": {
          "source_hidden": false,
          "outputs_hidden": false
        },
        "nteract": {
          "transient": {
            "deleting": false
          }
        },
        "collapsed": false
      }
    },
    {
      "cell_type": "code",
      "source": [
        "normalized_df = normalized_df.withColumn('dropoff_weekday',(F.dayofweek('dropoff_datetime')))\\\r\n",
        "    .withColumn('dropoff_month',(F.month('dropoff_datetime')))\\\r\n",
        "    .withColumn('dropoff_monthday',(F.dayofmonth('dropoff_datetime')))\\\r\n",
        "    .withColumn('dropoff_hour',(F.hour('dropoff_datetime')))\\\r\n",
        "    .withColumn('dropoff_minute',(F.minute('dropoff_datetime')))\\\r\n",
        "    .withColumn('dropoff_second',(F.second('dropoff_datetime'))).drop(\"dropoff_datetime\")\r\n",
        "\r\n",
        "display(normalized_df.head(5))"
      ],
      "outputs": [],
      "execution_count": 58,
      "metadata": {
        "jupyter": {
          "source_hidden": false,
          "outputs_hidden": false
        },
        "nteract": {
          "transient": {
            "deleting": false
          }
        },
        "collapsed": false
      }
    },
    {
      "cell_type": "markdown",
      "source": [
        "#### 1.4.4 Change the store_forward column to binary values\r\n"
      ],
      "metadata": {
        "nteract": {
          "transient": {
            "deleting": false
          }
        }
      }
    },
    {
      "cell_type": "code",
      "source": [
        "print(\"--------------- Count before transforming into binary values ---------------\")\r\n",
        "latlong_filtered_df.groupBy(\"store_forward\").count().show()\r\n",
        "\r\n",
        "normalized_df = normalized_df.withColumn('store_forward', F.when(F.col('store_forward') == \"Y\", F.lit(1)).otherwise(F.lit(0)))\r\n",
        "\r\n",
        "print(\"--------------- Count after transforming into binary values ---------------\")\r\n",
        "normalized_df.groupBy(\"store_forward\").count().show()"
      ],
      "outputs": [],
      "execution_count": 59,
      "metadata": {
        "jupyter": {
          "source_hidden": false,
          "outputs_hidden": false
        },
        "nteract": {
          "transient": {
            "deleting": false
          }
        }
      }
    },
    {
      "cell_type": "markdown",
      "source": [
        "#### 1.4.5 Filtering by distance and cost"
      ],
      "metadata": {
        "nteract": {
          "transient": {
            "deleting": false
          }
        }
      }
    },
    {
      "cell_type": "code",
      "source": [
        "print(\"--------------- Count before filter ---------------\")\r\n",
        "print(normalized_df.count())\r\n",
        "\r\n",
        "final_df = normalized_df.filter( (normalized_df.distance > 0) & \\\r\n",
        "(normalized_df.cost > 0))\r\n",
        "\r\n",
        "final_df.count()\r\n",
        "\r\n",
        "print(\"--------------- Count after filter ---------------\")\r\n",
        "print(final_df.count())"
      ],
      "outputs": [],
      "execution_count": 60,
      "metadata": {
        "jupyter": {
          "source_hidden": false,
          "outputs_hidden": false
        },
        "nteract": {
          "transient": {
            "deleting": false
          }
        }
      }
    },
    {
      "cell_type": "markdown",
      "source": [
        "### 1.5 Save Transformed regression Data"
      ],
      "metadata": {
        "nteract": {
          "transient": {
            "deleting": false
          }
        }
      }
    },
    {
      "cell_type": "code",
      "source": [
        "df_combined_taxi.write.mode(\"overwrite\").synapsesql(\"synapseazuremldedicates.dbo.reg_transformed_taxi_data\")"
      ],
      "outputs": [],
      "execution_count": 61,
      "metadata": {
        "jupyter": {
          "source_hidden": false,
          "outputs_hidden": false
        },
        "nteract": {
          "transient": {
            "deleting": false
          }
        }
      }
    },
    {
      "cell_type": "markdown",
      "source": [
        "### 1.6 Transform target into classes and saving table"
      ],
      "metadata": {
        "nteract": {
          "transient": {
            "deleting": false
          }
        }
      }
    },
    {
      "cell_type": "code",
      "source": [
        "discretizer = QuantileDiscretizer(numBuckets=5, inputCol=\"cost\", outputCol=\"cost_class\")\r\n",
        "bucketed_df = discretizer.fit(final_df).transform(final_df)\r\n",
        "bucketed_df.groupBy(\"cost_class\").count().show()"
      ],
      "outputs": [],
      "execution_count": 62,
      "metadata": {
        "jupyter": {
          "source_hidden": false,
          "outputs_hidden": false
        },
        "nteract": {
          "transient": {
            "deleting": false
          }
        }
      }
    },
    {
      "cell_type": "code",
      "source": [
        "display(bucketed_df.head(10))"
      ],
      "outputs": [],
      "execution_count": 63,
      "metadata": {
        "jupyter": {
          "source_hidden": false,
          "outputs_hidden": false
        },
        "nteract": {
          "transient": {
            "deleting": false
          }
        },
        "collapsed": false
      }
    },
    {
      "cell_type": "code",
      "source": [
        "bucketed_df.write.mode(\"overwrite\").synapsesql(\"synapseazuremldedicates.dbo.class_transformed_taxi_data\")"
      ],
      "outputs": [],
      "execution_count": 64,
      "metadata": {
        "jupyter": {
          "source_hidden": false,
          "outputs_hidden": false
        },
        "nteract": {
          "transient": {
            "deleting": false
          }
        }
      }
    },
    {
      "cell_type": "code",
      "source": [],
      "outputs": [],
      "execution_count": null,
      "metadata": {
        "jupyter": {
          "source_hidden": false,
          "outputs_hidden": false
        },
        "nteract": {
          "transient": {
            "deleting": false
          }
        }
      }
    }
  ],
  "metadata": {
    "kernelspec": {
      "name": "synapse_pyspark",
      "language": "Python",
      "display_name": "Synapse PySpark"
    },
    "language_info": {
      "name": "python"
    },
    "kernel_info": {
      "name": "synapse_pyspark"
    },
    "save_output": true,
    "synapse_widget": {
      "version": "0.1",
      "state": {}
    }
  },
  "nbformat": 4,
  "nbformat_minor": 2
}