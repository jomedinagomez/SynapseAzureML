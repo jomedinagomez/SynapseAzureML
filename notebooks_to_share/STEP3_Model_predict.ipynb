{
  "cells": [
    {
      "cell_type": "code",
      "source": [
        "##https://github.com/microsoft/SynapseML/blob/master/docs/Use%20with%20MLFlow/Overview.md\r\n",
        "##https://github.com/microsoft/SynapseML/blob/master/docs/Explore%20Algorithms/Hyperparameter%20Tuning/HyperOpt.ipynb"
      ],
      "outputs": [],
      "execution_count": 6,
      "metadata": {
        "jupyter": {
          "source_hidden": false,
          "outputs_hidden": false
        },
        "nteract": {
          "transient": {
            "deleting": false
          }
        }
      }
    },
    {
      "cell_type": "markdown",
      "source": [
        "## 3. Model scoring"
      ],
      "metadata": {
        "nteract": {
          "transient": {
            "deleting": false
          }
        }
      }
    },
    {
      "cell_type": "code",
      "source": [
        "# Importing pyspark dependencies\r\n",
        "from pyspark.sql.types import IntegerType,BooleanType,DateType,NumericType,TimestampType\r\n",
        "from pyspark.ml.feature import Binarizer, Bucketizer, QuantileDiscretizer\r\n",
        "from com.microsoft.spark.sqlanalytics.Constants import Constants\r\n",
        "import com.microsoft.spark.sqlanalytics\r\n",
        "from pyspark.sql.functions import col\r\n",
        "import pyspark.sql.functions as F\r\n",
        "\r\n",
        "# Importing mlflow libraries\r\n",
        "from mlflow.models import infer_signature, set_signature\r\n",
        "from mlflow.models.model import get_model_info\r\n",
        "import mlflow\r\n",
        "\r\n",
        "\r\n",
        "# Importing general libraries\r\n",
        "from sklearn.metrics import accuracy_score, f1_score, precision_score, confusion_matrix, recall_score, roc_auc_score, classification_report\r\n",
        "import pandas as pd\r\n",
        "\r\n",
        "#AML workspace authentication using linked service\r\n",
        "from notebookutils.mssparkutils import azureML\r\n",
        "linked_service_name = \"AzureMLService1\"\r\n",
        "ws = azureML.getWorkspace(linked_service_name)\r\n",
        "mlflow.set_tracking_uri(ws.get_mlflow_tracking_uri().replace(\"v2.0\",\"v1.0\"))\r\n",
        "\r\n",
        "## Importing SynapseML\r\n",
        "from synapse.ml.featurize import Featurize\r\n",
        "from synapse.ml.lightgbm import *\r\n",
        "from synapse.ml.train import ComputeModelStatistics"
      ],
      "outputs": [],
      "execution_count": 7,
      "metadata": {}
    },
    {
      "cell_type": "markdown",
      "source": [
        "### 3.1 Importing data"
      ],
      "metadata": {
        "nteract": {
          "transient": {
            "deleting": false
          }
        }
      }
    },
    {
      "cell_type": "code",
      "source": [
        "# Read from existing internal table\r\n",
        "df = (spark.read.synapsesql(\"synapseazuremldedicates.dbo.class_transformed_taxi_data\")).drop('cost')\r\n",
        "\r\n",
        "# Show contents of the dataframe\r\n",
        "display(df.head(5))"
      ],
      "outputs": [],
      "execution_count": 8,
      "metadata": {
        "jupyter": {
          "source_hidden": false,
          "outputs_hidden": false
        },
        "nteract": {
          "transient": {
            "deleting": false
          }
        },
        "collapsed": false
      }
    },
    {
      "cell_type": "markdown",
      "source": [
        "### 3.2  Testing model from run folder"
      ],
      "metadata": {
        "nteract": {
          "transient": {
            "deleting": false
          }
        }
      }
    },
    {
      "cell_type": "code",
      "source": [
        "### --------------------------------------------------------------------------- ###\r\n",
        "model_name = 'featurizer'\r\n",
        "# Search registered models for the \r\n",
        "for model in mlflow.search_registered_models():\r\n",
        "    if model.name == model_name:\r\n",
        "        latest_version_run_id = model.latest_versions[0].run_id\r\n",
        "        model_found = True\r\n",
        "        break\r\n",
        "\r\n",
        "# load model from Azure Machine Learning\r\n",
        "run_id = latest_version_run_id\r\n",
        "artifact_path = \"model\"\r\n",
        "model_uri = f\"runs:/{run_id}/{artifact_path}\"\r\n",
        "featurizer_model = mlflow.spark.load_model(model_uri)\r\n",
        "\r\n",
        "### --------------------------------------------------------------------------- ###\r\n",
        "\r\n",
        "model_name = 'classification_demo'\r\n",
        "# Search registered models for the \r\n",
        "for model in mlflow.search_registered_models():\r\n",
        "    if model.name == model_name:\r\n",
        "        latest_version_run_id = model.latest_versions[0].run_id\r\n",
        "        model_found = True\r\n",
        "        break\r\n",
        "\r\n",
        "# load model from Azure Machine Learning\r\n",
        "run_id = latest_version_run_id\r\n",
        "artifact_path = \"lightgbm_model\"\r\n",
        "model_uri = f\"runs:/{run_id}/{artifact_path}\"\r\n",
        "model = mlflow.pyfunc.load_model(model_uri)\r\n",
        "\r\n",
        "### --------------------------------------------------------------------------- ###\r\n",
        "\r\n",
        "df_trans = featurizer_model.transform(df)\r\n",
        "pandas_df = df_trans.toPandas()\r\n",
        "\r\n",
        "# testing model\r\n",
        "test_predictions = model.predict(pandas_df.head())\r\n",
        "print(test_predictions)"
      ],
      "outputs": [],
      "execution_count": 9,
      "metadata": {
        "jupyter": {
          "source_hidden": false,
          "outputs_hidden": false
        },
        "nteract": {
          "transient": {
            "deleting": false
          }
        }
      }
    },
    {
      "cell_type": "markdown",
      "source": [
        "### 3.3 Testing model from model registry using pyfunc"
      ],
      "metadata": {
        "nteract": {
          "transient": {
            "deleting": false
          }
        }
      }
    },
    {
      "cell_type": "code",
      "source": [
        "model = mlflow.pyfunc.load_model(model_uri=f\"models:/classification_demo/latest\")\r\n",
        "\r\n",
        "test_predictions = model.predict(pandas_df)\r\n",
        "print(test_predictions)"
      ],
      "outputs": [],
      "execution_count": 10,
      "metadata": {
        "jupyter": {
          "source_hidden": false,
          "outputs_hidden": false
        },
        "nteract": {
          "transient": {
            "deleting": false
          }
        }
      }
    },
    {
      "cell_type": "markdown",
      "source": [
        "### 3.4 Testing model from model registry using spark"
      ],
      "metadata": {
        "nteract": {
          "transient": {
            "deleting": false
          }
        }
      }
    },
    {
      "cell_type": "code",
      "source": [
        "spark_model = mlflow.spark.load_model(model_uri=f\"models:/classification_demo/latest\")\r\n",
        "display(spark_model.transform(df_trans))"
      ],
      "outputs": [],
      "execution_count": 11,
      "metadata": {
        "jupyter": {
          "source_hidden": false,
          "outputs_hidden": false
        },
        "nteract": {
          "transient": {
            "deleting": false
          }
        },
        "collapsed": false
      }
    },
    {
      "cell_type": "code",
      "source": [],
      "outputs": [],
      "execution_count": null,
      "metadata": {
        "jupyter": {
          "source_hidden": false,
          "outputs_hidden": false
        },
        "nteract": {
          "transient": {
            "deleting": false
          }
        }
      }
    }
  ],
  "metadata": {
    "kernelspec": {
      "name": "synapse_pyspark",
      "language": "Python",
      "display_name": "Synapse PySpark"
    },
    "language_info": {
      "name": "python"
    },
    "kernel_info": {
      "name": "synapse_pyspark"
    },
    "save_output": true,
    "synapse_widget": {
      "version": "0.1",
      "state": {}
    }
  },
  "nbformat": 4,
  "nbformat_minor": 2
}